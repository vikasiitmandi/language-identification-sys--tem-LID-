{
  "cells": [
    {
      "cell_type": "markdown",
      "id": "06675620-9a57-4488-b7d0-cdb7f01c78cf",
      "metadata": {
        "id": "06675620-9a57-4488-b7d0-cdb7f01c78cf"
      },
      "source": [
        "# Gaussian Mixture Model (EM Algo) for Language Classification"
      ]
    },
    {
      "cell_type": "code",
      "source": [
        "from google.colab import drive\n",
        "drive.mount('/content/drive')"
      ],
      "metadata": {
        "colab": {
          "base_uri": "https://localhost:8080/"
        },
        "id": "v-DjD419kTsf",
        "outputId": "0a5f76cd-f00b-4d85-dbf3-f7778734483b"
      },
      "id": "v-DjD419kTsf",
      "execution_count": null,
      "outputs": [
        {
          "output_type": "stream",
          "name": "stdout",
          "text": [
            "Drive already mounted at /content/drive; to attempt to forcibly remount, call drive.mount(\"/content/drive\", force_remount=True).\n"
          ]
        }
      ]
    },
    {
      "cell_type": "markdown",
      "id": "6dc263ac-c3d8-4d98-8931-dcdebe48e622",
      "metadata": {
        "tags": [],
        "id": "6dc263ac-c3d8-4d98-8931-dcdebe48e622"
      },
      "source": [
        "### Imports"
      ]
    },
    {
      "cell_type": "code",
      "execution_count": null,
      "id": "615355e7-d380-4356-8e4e-71c48966a64b",
      "metadata": {
        "id": "615355e7-d380-4356-8e4e-71c48966a64b"
      },
      "outputs": [],
      "source": [
        "from sklearn.mixture import GaussianMixture as GM\n",
        "from sklearn import metrics\n",
        "import matplotlib.pyplot as plt"
      ]
    },
    {
      "cell_type": "code",
      "execution_count": null,
      "id": "dee0b8c8-84c9-475f-a2d0-216b13b3caea",
      "metadata": {
        "id": "dee0b8c8-84c9-475f-a2d0-216b13b3caea"
      },
      "outputs": [],
      "source": [
        "import os\n",
        "import numpy as np\n",
        "import pandas as pd"
      ]
    },
    {
      "cell_type": "code",
      "execution_count": null,
      "id": "a9661035-cb55-4568-b473-74b4754b03b6",
      "metadata": {
        "id": "a9661035-cb55-4568-b473-74b4754b03b6"
      },
      "outputs": [],
      "source": [
        "path = '/content/drive/MyDrive/OP/'"
      ]
    },
    {
      "cell_type": "code",
      "execution_count": null,
      "id": "7e180d16-ed1e-4c26-980a-737058c2855e",
      "metadata": {
        "id": "7e180d16-ed1e-4c26-980a-737058c2855e"
      },
      "outputs": [],
      "source": [
        "lang_dict = {0:'Assam', 1:'Bengali', 2:'English', 3:'Gujarati', 4:'Hindi', \n",
        "             5:'Kannada', 6:'Malayalam', 7:'Marati', 8:'Odissa', 9:'Punjabi', 10:'Tamil', 11:'Telugu'}"
      ]
    },
    {
      "cell_type": "code",
      "execution_count": null,
      "id": "78ca4eb9-041a-441d-a211-c257dfab6a8b",
      "metadata": {
        "colab": {
          "base_uri": "https://localhost:8080/"
        },
        "id": "78ca4eb9-041a-441d-a211-c257dfab6a8b",
        "outputId": "e87ef27b-a1e1-4348-f886-5f5bb1cbf26f"
      },
      "outputs": [
        {
          "output_type": "stream",
          "name": "stdout",
          "text": [
            "['asm', 'ben', 'eng', 'guj', 'hin', 'kan', 'mal', 'mar', 'odi', 'pun', 'tam', 'tel']\n"
          ]
        }
      ],
      "source": [
        "languages = sorted(os.listdir(path))\n",
        "print(languages)\n",
        "languages_path = [path+i for i in languages]"
      ]
    },
    {
      "cell_type": "markdown",
      "id": "f758efa8-7320-407e-b8ab-97dca51db603",
      "metadata": {
        "jp-MarkdownHeadingCollapsed": true,
        "tags": [],
        "id": "f758efa8-7320-407e-b8ab-97dca51db603"
      },
      "source": [
        "### Data Processing (Reading data language wise)"
      ]
    },
    {
      "cell_type": "code",
      "execution_count": null,
      "id": "ba8d0bb3-8cd3-48b6-965e-54097cea9900",
      "metadata": {
        "id": "ba8d0bb3-8cd3-48b6-965e-54097cea9900"
      },
      "outputs": [],
      "source": [
        "def read_data(path):\n",
        "    subpath = [path+'/PB_train_CSV/', path+'/PB_test_CSV/', path+'/YT_test_CSV/'] \n",
        "    data = []\n",
        "    for p in subpath:\n",
        "        temp = []\n",
        "        for files in os.listdir(p):\n",
        "            df = pd.read_csv(p+files, delimiter=',', header=None, encoding='utf-16')\n",
        "            temp.append(np.array(df))\n",
        "        data.append(temp)\n",
        "\n",
        "    return data[0], data[1], data[2]"
      ]
    },
    {
      "cell_type": "code",
      "execution_count": null,
      "id": "b6e75596-b23f-49fe-bd02-ee835c6b0b67",
      "metadata": {
        "id": "b6e75596-b23f-49fe-bd02-ee835c6b0b67"
      },
      "outputs": [],
      "source": [
        "def concat(data):\n",
        "    concat_data = np.empty([0,39])\n",
        "    for i in data:\n",
        "        n = np.array(i)\n",
        "        concat_data = np.concatenate((concat_data,n),axis=0)\n",
        "    return concat_data"
      ]
    },
    {
      "cell_type": "markdown",
      "id": "69d8e62f-aefe-4e01-8e9c-0eb35e9e116d",
      "metadata": {
        "tags": [],
        "id": "69d8e62f-aefe-4e01-8e9c-0eb35e9e116d"
      },
      "source": [
        "### Getting data for all classes"
      ]
    },
    {
      "cell_type": "code",
      "execution_count": null,
      "id": "4d38a478-f257-419c-ae62-cecdb3be632c",
      "metadata": {
        "id": "4d38a478-f257-419c-ae62-cecdb3be632c"
      },
      "outputs": [],
      "source": [
        "asm_train, asm_pbtest, asm_yttest = read_data(languages_path[0])\n",
        "asm_train = concat(asm_train)"
      ]
    },
    {
      "cell_type": "code",
      "execution_count": null,
      "id": "701f4bde-ec7e-428c-a7a2-140086dbd1b5",
      "metadata": {
        "id": "701f4bde-ec7e-428c-a7a2-140086dbd1b5"
      },
      "outputs": [],
      "source": [
        "ben_train, ben_pbtest, ben_yttest = read_data(languages_path[1])\n",
        "ben_train = concat(ben_train)"
      ]
    },
    {
      "cell_type": "code",
      "execution_count": null,
      "id": "21d01ab1-a20d-493d-91be-40771c5108a3",
      "metadata": {
        "id": "21d01ab1-a20d-493d-91be-40771c5108a3"
      },
      "outputs": [],
      "source": [
        "eng_train, eng_pbtest, eng_yttest = read_data(languages_path[2])\n",
        "eng_train = concat(eng_train)"
      ]
    },
    {
      "cell_type": "code",
      "execution_count": null,
      "id": "defbdeda-ac41-42c5-b296-001c9927ed54",
      "metadata": {
        "id": "defbdeda-ac41-42c5-b296-001c9927ed54"
      },
      "outputs": [],
      "source": [
        "guj_train, guj_pbtest, guj_yttest = read_data(languages_path[3])\n",
        "guj_train = concat(guj_train)"
      ]
    },
    {
      "cell_type": "code",
      "execution_count": null,
      "id": "d8fd5646-2239-43a3-b0c0-b0b7ca1741f2",
      "metadata": {
        "id": "d8fd5646-2239-43a3-b0c0-b0b7ca1741f2"
      },
      "outputs": [],
      "source": [
        "hin_train, hin_pbtest, hin_yttest = read_data(languages_path[4])\n",
        "hin_train = concat(hin_train)"
      ]
    },
    {
      "cell_type": "code",
      "execution_count": null,
      "id": "852681a7-9dbc-4717-85df-c22e91762d2d",
      "metadata": {
        "id": "852681a7-9dbc-4717-85df-c22e91762d2d"
      },
      "outputs": [],
      "source": [
        "kan_train, kan_pbtest, kan_yttest = read_data(languages_path[5])\n",
        "kan_train = concat(kan_train)"
      ]
    },
    {
      "cell_type": "code",
      "execution_count": null,
      "id": "4b480f31-ffed-437f-a421-e8c5bdd57b50",
      "metadata": {
        "id": "4b480f31-ffed-437f-a421-e8c5bdd57b50"
      },
      "outputs": [],
      "source": [
        "mal_train, mal_pbtest, mal_yttest = read_data(languages_path[6])\n",
        "mal_train = concat(mal_train)"
      ]
    },
    {
      "cell_type": "code",
      "execution_count": null,
      "id": "fc53df5f-bc37-485d-98d3-232a5b0645d3",
      "metadata": {
        "id": "fc53df5f-bc37-485d-98d3-232a5b0645d3"
      },
      "outputs": [],
      "source": [
        "mar_train, mar_pbtest, mar_yttest = read_data(languages_path[7])\n",
        "mar_train = concat(mar_train)"
      ]
    },
    {
      "cell_type": "code",
      "execution_count": null,
      "id": "fc5e3cc5-af0a-4592-a63b-5e8e3892b8af",
      "metadata": {
        "id": "fc5e3cc5-af0a-4592-a63b-5e8e3892b8af"
      },
      "outputs": [],
      "source": [
        "odi_train, odi_pbtest, odi_yttest = read_data(languages_path[8])\n",
        "odi_train = concat(odi_train)"
      ]
    },
    {
      "cell_type": "code",
      "execution_count": null,
      "id": "ce2e81bf-c672-46f6-8048-30c6077d7b24",
      "metadata": {
        "id": "ce2e81bf-c672-46f6-8048-30c6077d7b24"
      },
      "outputs": [],
      "source": [
        "pun_train, pun_pbtest, pun_yttest = read_data(languages_path[9])\n",
        "pun_train = concat(pun_train)"
      ]
    },
    {
      "cell_type": "code",
      "execution_count": null,
      "id": "742a45d8-4108-4d7e-abc8-ccc03c148925",
      "metadata": {
        "id": "742a45d8-4108-4d7e-abc8-ccc03c148925"
      },
      "outputs": [],
      "source": [
        "tam_train, tam_pbtest, tam_yttest = read_data(languages_path[10])\n",
        "tam_train = concat(tam_train)"
      ]
    },
    {
      "cell_type": "code",
      "execution_count": null,
      "id": "714eb432-790f-4549-8ef2-7e922439b0bb",
      "metadata": {
        "id": "714eb432-790f-4549-8ef2-7e922439b0bb"
      },
      "outputs": [],
      "source": [
        "tel_train, tel_pbtest, tel_yttest = read_data(languages_path[11])\n",
        "tel_train = concat(tel_train)"
      ]
    },
    {
      "cell_type": "markdown",
      "id": "11abf46b-891e-4223-9a85-3d0320572dde",
      "metadata": {
        "jp-MarkdownHeadingCollapsed": true,
        "tags": [],
        "id": "11abf46b-891e-4223-9a85-3d0320572dde"
      },
      "source": [
        "### Building GMM Classifier"
      ]
    },
    {
      "cell_type": "markdown",
      "id": "0e7d186c-3cef-4861-9ee0-ec40c16dbad6",
      "metadata": {
        "id": "0e7d186c-3cef-4861-9ee0-ec40c16dbad6"
      },
      "source": [
        "#### Class1: Assam"
      ]
    },
    {
      "cell_type": "code",
      "execution_count": null,
      "id": "d8772249-4bad-4c06-8398-9f457f1f6730",
      "metadata": {
        "colab": {
          "base_uri": "https://localhost:8080/"
        },
        "id": "d8772249-4bad-4c06-8398-9f457f1f6730",
        "outputId": "1f57b685-8ae2-4066-c851-a33685e832cd"
      },
      "outputs": [
        {
          "output_type": "stream",
          "name": "stdout",
          "text": [
            "WEIGHTS: [0.07414468 0.08044657 0.09314097 0.08007877 0.0871309  0.06500468\n",
            " 0.09176783 0.10665795 0.08775891 0.05726516 0.09197712 0.08462646]\n"
          ]
        }
      ],
      "source": [
        "asm = GM(n_components=12, init_params='kmeans', covariance_type='full')\n",
        "asm.fit(asm_train)\n",
        "print('WEIGHTS:', asm.weights_)\n",
        "# print('MEAN:', asm.means_)\n",
        "# print('COVARIANCE:', asm.covariances_)"
      ]
    },
    {
      "cell_type": "markdown",
      "id": "88cc4f15-d482-4843-b8ac-53f3e458ac32",
      "metadata": {
        "id": "88cc4f15-d482-4843-b8ac-53f3e458ac32"
      },
      "source": [
        "#### Class2: Bengali"
      ]
    },
    {
      "cell_type": "code",
      "execution_count": null,
      "id": "1b4a4134-fa7d-4e8b-ae2f-decbac87dbb3",
      "metadata": {
        "colab": {
          "base_uri": "https://localhost:8080/"
        },
        "id": "1b4a4134-fa7d-4e8b-ae2f-decbac87dbb3",
        "outputId": "54bc2bb4-ea7e-4a79-e3b9-2e8268076033"
      },
      "outputs": [
        {
          "output_type": "stream",
          "name": "stdout",
          "text": [
            "WEIGHTS: [0.07470776 0.0268025  0.12767083 0.06273096 0.0909247  0.08215092\n",
            " 0.14557509 0.08303867 0.01916183 0.12031551 0.0640438  0.10287742]\n"
          ]
        }
      ],
      "source": [
        "ben = GM(n_components=12, init_params='kmeans', covariance_type='full')\n",
        "ben.fit(ben_train)\n",
        "print('WEIGHTS:', ben.weights_)"
      ]
    },
    {
      "cell_type": "markdown",
      "id": "379ab204-4f2a-43d3-bb84-520008c63c64",
      "metadata": {
        "id": "379ab204-4f2a-43d3-bb84-520008c63c64"
      },
      "source": [
        "#### Class3: English"
      ]
    },
    {
      "cell_type": "code",
      "execution_count": null,
      "id": "4fa63acf-efc8-48e2-8bcd-d3c0318b697a",
      "metadata": {
        "colab": {
          "base_uri": "https://localhost:8080/"
        },
        "id": "4fa63acf-efc8-48e2-8bcd-d3c0318b697a",
        "outputId": "cd27cb35-d2b3-4661-8d78-8c4db6e01563"
      },
      "outputs": [
        {
          "output_type": "stream",
          "name": "stdout",
          "text": [
            "WEIGHTS: [0.0958022  0.0813357  0.06855723 0.08067781 0.08642012 0.09522262\n",
            " 0.09060009 0.0615536  0.07794277 0.10389014 0.07274649 0.08525122]\n"
          ]
        }
      ],
      "source": [
        "eng = GM(n_components=12, init_params='kmeans', covariance_type='full')\n",
        "eng.fit(eng_train)\n",
        "print('WEIGHTS:', eng.weights_)"
      ]
    },
    {
      "cell_type": "markdown",
      "id": "51d1f3c0-24ba-40d7-bb6b-d58a42e5caa3",
      "metadata": {
        "id": "51d1f3c0-24ba-40d7-bb6b-d58a42e5caa3"
      },
      "source": [
        "#### Class4: Gujarati"
      ]
    },
    {
      "cell_type": "code",
      "execution_count": null,
      "id": "27ec4687-d809-450e-95ca-fc21187524ef",
      "metadata": {
        "colab": {
          "base_uri": "https://localhost:8080/"
        },
        "id": "27ec4687-d809-450e-95ca-fc21187524ef",
        "outputId": "763c72f9-469d-4d0c-ed28-2026aae9d06f"
      },
      "outputs": [
        {
          "output_type": "stream",
          "name": "stdout",
          "text": [
            "WEIGHTS: [0.07832254 0.07465855 0.106818   0.11483145 0.073702   0.09226537\n",
            " 0.09062995 0.09044096 0.07032203 0.08109111 0.0428053  0.08411274]\n"
          ]
        }
      ],
      "source": [
        "guj = GM(n_components=12, init_params='kmeans', covariance_type='full')\n",
        "guj.fit(guj_train)\n",
        "print('WEIGHTS:', guj.weights_)"
      ]
    },
    {
      "cell_type": "markdown",
      "id": "61c99940-75ca-44ff-9df5-a6a6a93f46a8",
      "metadata": {
        "id": "61c99940-75ca-44ff-9df5-a6a6a93f46a8"
      },
      "source": [
        "#### Class5: Hindi"
      ]
    },
    {
      "cell_type": "code",
      "execution_count": null,
      "id": "a345662d-f154-44dd-a091-167e0a173975",
      "metadata": {
        "colab": {
          "base_uri": "https://localhost:8080/"
        },
        "id": "a345662d-f154-44dd-a091-167e0a173975",
        "outputId": "403bbe8d-bc37-4ac8-de88-a68e68c3c9ca"
      },
      "outputs": [
        {
          "output_type": "stream",
          "name": "stdout",
          "text": [
            "WEIGHTS: [0.0867731  0.05606412 0.06756456 0.0866793  0.07457238 0.06830072\n",
            " 0.0955266  0.08269377 0.09883419 0.10250816 0.08067697 0.09980614]\n"
          ]
        }
      ],
      "source": [
        "hin = GM(n_components=12, init_params='kmeans', covariance_type='full')\n",
        "hin.fit(hin_train)\n",
        "print('WEIGHTS:', hin.weights_)"
      ]
    },
    {
      "cell_type": "markdown",
      "id": "4bb61952-fa86-4465-b21d-039542b7d84e",
      "metadata": {
        "id": "4bb61952-fa86-4465-b21d-039542b7d84e"
      },
      "source": [
        "#### Class6: Kannada"
      ]
    },
    {
      "cell_type": "code",
      "execution_count": null,
      "id": "1d644373-e279-4eee-9a8d-4e5169e698a1",
      "metadata": {
        "colab": {
          "base_uri": "https://localhost:8080/"
        },
        "id": "1d644373-e279-4eee-9a8d-4e5169e698a1",
        "outputId": "95cdae3e-2fbd-4135-dce7-dc17aa8c664c"
      },
      "outputs": [
        {
          "output_type": "stream",
          "name": "stdout",
          "text": [
            "WEIGHTS: [0.08537152 0.02765679 0.04613874 0.07492482 0.0864914  0.11103914\n",
            " 0.0899901  0.0400843  0.08668181 0.11241869 0.1530498  0.08615289]\n"
          ]
        }
      ],
      "source": [
        "kan = GM(n_components=12, init_params='kmeans', covariance_type='full')\n",
        "kan.fit(kan_train)\n",
        "print('WEIGHTS:', kan.weights_)\n"
      ]
    },
    {
      "cell_type": "markdown",
      "id": "94a09033-4412-4801-879f-7c8171d812ed",
      "metadata": {
        "id": "94a09033-4412-4801-879f-7c8171d812ed"
      },
      "source": [
        "#### Class7: Malayalam"
      ]
    },
    {
      "cell_type": "code",
      "execution_count": null,
      "id": "77428826-3976-4ca9-8980-2ff298b8dfef",
      "metadata": {
        "colab": {
          "base_uri": "https://localhost:8080/"
        },
        "id": "77428826-3976-4ca9-8980-2ff298b8dfef",
        "outputId": "a161c2de-d58c-4847-ce2c-352829b23f86"
      },
      "outputs": [
        {
          "output_type": "stream",
          "name": "stdout",
          "text": [
            "WEIGHTS: [0.09961828 0.12695812 0.05129596 0.09963835 0.07541835 0.07790185\n",
            " 0.08770995 0.08959321 0.08642869 0.03261362 0.07241812 0.10040552]\n"
          ]
        }
      ],
      "source": [
        "mal = GM(n_components=12, init_params='kmeans', covariance_type='full')\n",
        "mal.fit(mal_train)\n",
        "print('WEIGHTS:', mal.weights_)"
      ]
    },
    {
      "cell_type": "markdown",
      "id": "cafe82ca-560c-4a80-8589-5bb15400e3d8",
      "metadata": {
        "id": "cafe82ca-560c-4a80-8589-5bb15400e3d8"
      },
      "source": [
        "#### Class8: Marathi"
      ]
    },
    {
      "cell_type": "code",
      "execution_count": null,
      "id": "41c115cb-aa76-4de7-8703-5c78cf4beac1",
      "metadata": {
        "colab": {
          "base_uri": "https://localhost:8080/"
        },
        "id": "41c115cb-aa76-4de7-8703-5c78cf4beac1",
        "outputId": "de693bbf-4abb-4196-a314-c08ecef79883"
      },
      "outputs": [
        {
          "output_type": "stream",
          "name": "stdout",
          "text": [
            "WEIGHTS: [0.07228055 0.06142795 0.07032327 0.03337415 0.07410289 0.09869111\n",
            " 0.18200693 0.0840578  0.02543011 0.10504195 0.10283658 0.09042669]\n"
          ]
        }
      ],
      "source": [
        "mar = GM(n_components=12, init_params='kmeans', covariance_type='full')\n",
        "mar.fit(mar_train)\n",
        "print('WEIGHTS:', mar.weights_)"
      ]
    },
    {
      "cell_type": "markdown",
      "id": "744787a1-575e-472d-baaf-8b4c95940512",
      "metadata": {
        "id": "744787a1-575e-472d-baaf-8b4c95940512"
      },
      "source": [
        "#### Class9: Odissa"
      ]
    },
    {
      "cell_type": "code",
      "execution_count": null,
      "id": "a05494f9-67aa-4178-be7c-c032cd79dea9",
      "metadata": {
        "colab": {
          "base_uri": "https://localhost:8080/"
        },
        "id": "a05494f9-67aa-4178-be7c-c032cd79dea9",
        "outputId": "07b79862-53b7-4fd8-a44a-d61609b04e39"
      },
      "outputs": [
        {
          "output_type": "stream",
          "name": "stdout",
          "text": [
            "WEIGHTS: [0.09462599 0.04857123 0.10642863 0.08587826 0.08186376 0.02653596\n",
            " 0.08653043 0.10169366 0.09229379 0.06069399 0.10017221 0.1147121 ]\n"
          ]
        }
      ],
      "source": [
        "odi = GM(n_components=12, init_params='kmeans', covariance_type='full')\n",
        "odi.fit(odi_train)\n",
        "print('WEIGHTS:', odi.weights_)"
      ]
    },
    {
      "cell_type": "markdown",
      "id": "0f1432b7-78ed-4ce8-9257-89c948e5a1a8",
      "metadata": {
        "id": "0f1432b7-78ed-4ce8-9257-89c948e5a1a8"
      },
      "source": [
        "#### Class10: Punjabi"
      ]
    },
    {
      "cell_type": "code",
      "execution_count": null,
      "id": "996061e8-15aa-44ee-aaf5-3e344b2bfc02",
      "metadata": {
        "colab": {
          "base_uri": "https://localhost:8080/"
        },
        "id": "996061e8-15aa-44ee-aaf5-3e344b2bfc02",
        "outputId": "9d1a689f-393e-4cbf-fc42-07894bc1a86b"
      },
      "outputs": [
        {
          "output_type": "stream",
          "name": "stdout",
          "text": [
            "WEIGHTS: [0.06520374 0.09675824 0.10835317 0.10622424 0.06118187 0.06531003\n",
            " 0.06542408 0.09258382 0.09191911 0.07700941 0.06224559 0.10778669]\n"
          ]
        }
      ],
      "source": [
        "pun = GM(n_components=12, init_params='kmeans', covariance_type='full')\n",
        "pun.fit(pun_train)\n",
        "print('WEIGHTS:', pun.weights_)"
      ]
    },
    {
      "cell_type": "markdown",
      "id": "05f70b25-7321-4f01-812e-2ad66cb52de0",
      "metadata": {
        "id": "05f70b25-7321-4f01-812e-2ad66cb52de0"
      },
      "source": [
        "#### Class11: Tamil"
      ]
    },
    {
      "cell_type": "code",
      "execution_count": null,
      "id": "64e59dbc-6130-4845-b037-42edf9e0b46e",
      "metadata": {
        "colab": {
          "base_uri": "https://localhost:8080/"
        },
        "id": "64e59dbc-6130-4845-b037-42edf9e0b46e",
        "outputId": "463acdf4-2362-4b4e-d509-67ee20000c28"
      },
      "outputs": [
        {
          "output_type": "stream",
          "name": "stdout",
          "text": [
            "WEIGHTS: [0.07677315 0.10781537 0.14515359 0.08641939 0.11094667 0.07812263\n",
            " 0.06303361 0.05398088 0.05667461 0.05222958 0.09314521 0.0757053 ]\n"
          ]
        }
      ],
      "source": [
        "tam = GM(n_components=12, init_params='kmeans', covariance_type='full')\n",
        "tam.fit(tam_train)\n",
        "print('WEIGHTS:', tam.weights_)"
      ]
    },
    {
      "cell_type": "markdown",
      "id": "f11818de-2399-4a68-afaa-f0721649d0d7",
      "metadata": {
        "id": "f11818de-2399-4a68-afaa-f0721649d0d7"
      },
      "source": [
        "#### Class12: Telugu"
      ]
    },
    {
      "cell_type": "code",
      "execution_count": null,
      "id": "bb21bee1-6bea-406d-a6b8-4fad85f8956b",
      "metadata": {
        "colab": {
          "base_uri": "https://localhost:8080/"
        },
        "id": "bb21bee1-6bea-406d-a6b8-4fad85f8956b",
        "outputId": "c8f6a57c-bdcc-47ea-efe2-ac577a1f6673"
      },
      "outputs": [
        {
          "output_type": "stream",
          "name": "stdout",
          "text": [
            "WEIGHTS: [0.07675864 0.04518806 0.06185677 0.13373048 0.11974036 0.07285423\n",
            " 0.08737165 0.07432711 0.08725677 0.06414296 0.0879655  0.08880749]\n"
          ]
        }
      ],
      "source": [
        "tel = GM(n_components=12, init_params='kmeans', covariance_type='full')\n",
        "tel.fit(tel_train)\n",
        "print('WEIGHTS:', tel.weights_)"
      ]
    },
    {
      "cell_type": "markdown",
      "id": "38aa9b7d-0c2b-4af6-b5c4-32ec23087f22",
      "metadata": {
        "id": "38aa9b7d-0c2b-4af6-b5c4-32ec23087f22"
      },
      "source": [
        "### Testing"
      ]
    },
    {
      "cell_type": "code",
      "execution_count": null,
      "id": "4802e6f4-5c56-46c2-99d7-24878d47146e",
      "metadata": {
        "id": "4802e6f4-5c56-46c2-99d7-24878d47146e"
      },
      "outputs": [],
      "source": [
        "def detect(val):\n",
        "    lang_dict = {0:'Assam', 1:'Bengali', 2:'English', 3:'Gujarati', 4:'Hindi', \n",
        "             5:'Kannada', 6:'Malayalam', 7:'Marati', 8:'Odissa', 9:'Punjabi', 10:'Tamil', 11:'Telugu'}\n",
        "    return lang_dict[val]"
      ]
    },
    {
      "cell_type": "code",
      "execution_count": null,
      "id": "aaf8c55b-f8f0-4304-9a82-9daaf39eff83",
      "metadata": {
        "id": "aaf8c55b-f8f0-4304-9a82-9daaf39eff83"
      },
      "outputs": [],
      "source": [
        "def get_scores(lang, test):\n",
        "    return np.mean(lang.score_samples(test))"
      ]
    },
    {
      "cell_type": "code",
      "execution_count": null,
      "id": "fd3a0ff0-7cd1-4f80-9a55-05deeed294df",
      "metadata": {
        "id": "fd3a0ff0-7cd1-4f80-9a55-05deeed294df"
      },
      "outputs": [],
      "source": [
        "def get_gt(c, n):\n",
        "    return [c for i in range(n)]"
      ]
    },
    {
      "cell_type": "code",
      "execution_count": null,
      "id": "7f3bc795-a67d-465f-a99c-5832b2482158",
      "metadata": {
        "id": "7f3bc795-a67d-465f-a99c-5832b2482158"
      },
      "outputs": [],
      "source": [
        "def system_predict(dataset):\n",
        "    res = []\n",
        "    for i in dataset:\n",
        "        lh = [get_scores(asm, i), get_scores(ben, i), get_scores(eng, i),\n",
        "             get_scores(guj, i), get_scores(hin, i), get_scores(kan, i),\n",
        "             get_scores(mal, i), get_scores(mar, i), get_scores(odi, i),\n",
        "             get_scores(pun, i), get_scores(tam, i), get_scores(tel, i)]\n",
        "\n",
        "        res.append(np.argmax(lh))\n",
        "        \n",
        "\n",
        "    #gt = np.zeros(len(res))\n",
        "    #print('Most language detected as: ', detect(res[0]))\n",
        "    return res"
      ]
    },
    {
      "cell_type": "markdown",
      "id": "a677a9db-30e4-4826-8aa5-d8ab7c64cf6c",
      "metadata": {
        "id": "a677a9db-30e4-4826-8aa5-d8ab7c64cf6c"
      },
      "source": [
        "#### PB Test Data"
      ]
    },
    {
      "cell_type": "code",
      "execution_count": null,
      "id": "71301e64-ba41-44dd-b59a-8dfc70e48995",
      "metadata": {
        "id": "71301e64-ba41-44dd-b59a-8dfc70e48995"
      },
      "outputs": [],
      "source": [
        "predicted_PB_asm = system_predict(asm_pbtest)\n",
        "predicted_PB_ben = system_predict(ben_pbtest)\n",
        "predicted_PB_eng = system_predict(eng_pbtest)\n",
        "predicted_PB_guj = system_predict(guj_pbtest)\n",
        "predicted_PB_hin = system_predict(hin_pbtest)\n",
        "predicted_PB_kan = system_predict(kan_pbtest)\n",
        "predicted_PB_mal = system_predict(mal_pbtest)\n",
        "predicted_PB_mar = system_predict(mar_pbtest)\n",
        "predicted_PB_odi = system_predict(odi_pbtest)\n",
        "predicted_PB_pun = system_predict(pun_pbtest)\n",
        "predicted_PB_tam = system_predict(tam_pbtest)\n",
        "predicted_PB_tel = system_predict(tel_pbtest)"
      ]
    },
    {
      "cell_type": "code",
      "execution_count": null,
      "id": "fc941eeb-497c-4177-a3e7-34d17292e8fc",
      "metadata": {
        "id": "fc941eeb-497c-4177-a3e7-34d17292e8fc"
      },
      "outputs": [],
      "source": [
        "gt_PB_asm = get_gt(0, len(predicted_PB_asm))\n",
        "gt_PB_ben = get_gt(1, len(predicted_PB_ben))\n",
        "gt_PB_eng = get_gt(2, len(predicted_PB_eng))\n",
        "gt_PB_guj = get_gt(3, len(predicted_PB_guj))\n",
        "gt_PB_hin = get_gt(4, len(predicted_PB_hin))\n",
        "gt_PB_kan = get_gt(5, len(predicted_PB_kan))\n",
        "gt_PB_mal = get_gt(6, len(predicted_PB_mal))\n",
        "gt_PB_mar = get_gt(7, len(predicted_PB_mar))\n",
        "gt_PB_odi = get_gt(8, len(predicted_PB_odi))\n",
        "gt_PB_pun = get_gt(9, len(predicted_PB_pun))\n",
        "gt_PB_tam = get_gt(10, len(predicted_PB_tam))\n",
        "gt_PB_tel = get_gt(11, len(predicted_PB_tel))"
      ]
    },
    {
      "cell_type": "code",
      "execution_count": null,
      "id": "63820391-dd94-4f1a-9b89-3baf6dde0f16",
      "metadata": {
        "id": "63820391-dd94-4f1a-9b89-3baf6dde0f16"
      },
      "outputs": [],
      "source": [
        "predicted_PB = predicted_PB_asm + predicted_PB_ben + predicted_PB_eng + predicted_PB_guj + predicted_PB_hin + predicted_PB_kan + predicted_PB_mal + predicted_PB_mar + predicted_PB_odi + predicted_PB_pun + predicted_PB_tam + predicted_PB_tel\n",
        "gt_PB = gt_PB_asm + gt_PB_ben + gt_PB_eng + gt_PB_guj + gt_PB_hin + gt_PB_kan + gt_PB_mal + gt_PB_mar + gt_PB_odi + gt_PB_pun + gt_PB_tam + gt_PB_tel"
      ]
    },
    {
      "cell_type": "code",
      "execution_count": null,
      "id": "130f9b53-12ed-484c-b73a-bfb82cc085ca",
      "metadata": {
        "colab": {
          "base_uri": "https://localhost:8080/"
        },
        "id": "130f9b53-12ed-484c-b73a-bfb82cc085ca",
        "outputId": "b864dc61-6bc0-4303-fc1b-3f75166a6a1f"
      },
      "outputs": [
        {
          "output_type": "stream",
          "name": "stdout",
          "text": [
            "[[340   0   7   0   0   0   0   0   3   0   5   4]\n",
            " [  4 169   0   0   2   1   0   0   3   0   0   0]\n",
            " [  5   0 103   0   4   1   0   0   3   0   0   0]\n",
            " [  1   0   0 175   0   0   0   0   0   0   1   2]\n",
            " [  1   2  10   3 155   0   0   4   0   1   0   3]\n",
            " [  1   1  10   4   0 170   1   0   7   0   1   2]\n",
            " [  8   1   4   2   1   0 165   0  11   0   0   4]\n",
            " [ 19   0   0   0   0   0   6  89   2   0   0   1]\n",
            " [  1   2   1   0   1   0   2   1 187   0   0   4]\n",
            " [  0   0   0  59   5   0   0   0   0  60   0   0]\n",
            " [  0   3   0  16   0   1   1   0   4   0  97   3]\n",
            " [  2   1   1   4   2   0   3   0   3   0   1 177]]\n"
          ]
        }
      ],
      "source": [
        "confusion_matrix = metrics.confusion_matrix(gt_PB, predicted_PB, labels=list(lang_dict.keys()))\n",
        "print(confusion_matrix)"
      ]
    },
    {
      "cell_type": "code",
      "source": [
        "report_PB = metrics.classification_report(predicted_PB,gt_PB) #precision, recall, f1-score,etc\n",
        "print(report_PB)"
      ],
      "metadata": {
        "colab": {
          "base_uri": "https://localhost:8080/"
        },
        "id": "USgVTGm11miJ",
        "outputId": "49724dda-12db-4cd9-bff8-7844f0717f0f"
      },
      "id": "USgVTGm11miJ",
      "execution_count": null,
      "outputs": [
        {
          "output_type": "stream",
          "name": "stdout",
          "text": [
            "              precision    recall  f1-score   support\n",
            "\n",
            "           0       0.95      0.89      0.92       382\n",
            "           1       0.94      0.94      0.94       179\n",
            "           2       0.89      0.76      0.82       136\n",
            "           3       0.98      0.67      0.79       263\n",
            "           4       0.87      0.91      0.89       170\n",
            "           5       0.86      0.98      0.92       173\n",
            "           6       0.84      0.93      0.88       178\n",
            "           7       0.76      0.95      0.84        94\n",
            "           8       0.94      0.84      0.89       223\n",
            "           9       0.48      0.98      0.65        61\n",
            "          10       0.78      0.92      0.84       105\n",
            "          11       0.91      0.89      0.90       200\n",
            "\n",
            "    accuracy                           0.87      2164\n",
            "   macro avg       0.85      0.89      0.86      2164\n",
            "weighted avg       0.89      0.87      0.87      2164\n",
            "\n"
          ]
        }
      ]
    },
    {
      "cell_type": "code",
      "source": [
        "from sklearn.metrics import accuracy_score\n",
        "\n",
        "accuracy_score(gt_PB, predicted_PB)*100"
      ],
      "metadata": {
        "colab": {
          "base_uri": "https://localhost:8080/"
        },
        "id": "r7wwU86xY8zj",
        "outputId": "e419c237-b6c5-40e2-fb62-cf0cab988e12"
      },
      "id": "r7wwU86xY8zj",
      "execution_count": null,
      "outputs": [
        {
          "output_type": "execute_result",
          "data": {
            "text/plain": [
              "87.1996303142329"
            ]
          },
          "metadata": {},
          "execution_count": 548
        }
      ]
    },
    {
      "cell_type": "markdown",
      "id": "7c4bda49-9e57-4cd8-8770-c87db02b1e28",
      "metadata": {
        "id": "7c4bda49-9e57-4cd8-8770-c87db02b1e28"
      },
      "source": [
        "#### YT Test Data"
      ]
    },
    {
      "cell_type": "code",
      "execution_count": null,
      "id": "a1d0f251-4bce-4de5-b593-c7ca1d51b370",
      "metadata": {
        "id": "a1d0f251-4bce-4de5-b593-c7ca1d51b370"
      },
      "outputs": [],
      "source": [
        "predicted_YT_asm = system_predict(asm_yttest)\n",
        "predicted_YT_ben = system_predict(ben_yttest)\n",
        "predicted_YT_eng = system_predict(eng_yttest)\n",
        "predicted_YT_guj = system_predict(guj_yttest)\n",
        "predicted_YT_hin = system_predict(hin_yttest)\n",
        "predicted_YT_kan = system_predict(kan_yttest)\n",
        "predicted_YT_mal = system_predict(mal_yttest)\n",
        "predicted_YT_mar = system_predict(mar_yttest)\n",
        "predicted_YT_odi = system_predict(odi_yttest)\n",
        "predicted_YT_pun = system_predict(pun_yttest)\n",
        "predicted_YT_tam = system_predict(tam_yttest)\n",
        "predicted_YT_tel = system_predict(tel_yttest)"
      ]
    },
    {
      "cell_type": "code",
      "execution_count": null,
      "id": "0aab29f7-f16b-48b6-bc87-1f18b0844511",
      "metadata": {
        "id": "0aab29f7-f16b-48b6-bc87-1f18b0844511"
      },
      "outputs": [],
      "source": [
        "gt_YT_asm = get_gt(0, len(predicted_YT_asm))\n",
        "gt_YT_ben = get_gt(1, len(predicted_YT_ben))\n",
        "gt_YT_eng = get_gt(2, len(predicted_YT_eng))\n",
        "gt_YT_guj = get_gt(3, len(predicted_YT_guj))\n",
        "gt_YT_hin = get_gt(4, len(predicted_YT_hin))\n",
        "gt_YT_kan = get_gt(5, len(predicted_YT_kan))\n",
        "gt_YT_mal = get_gt(6, len(predicted_YT_mal))\n",
        "gt_YT_mar = get_gt(7, len(predicted_YT_mar))\n",
        "gt_YT_odi = get_gt(8, len(predicted_YT_odi))\n",
        "gt_YT_pun = get_gt(9, len(predicted_YT_pun))\n",
        "gt_YT_tam = get_gt(10, len(predicted_YT_tam))\n",
        "gt_YT_tel = get_gt(11, len(predicted_YT_tel))"
      ]
    },
    {
      "cell_type": "code",
      "source": [
        "# gt"
      ],
      "metadata": {
        "id": "Qj-zTK6Se1wb"
      },
      "id": "Qj-zTK6Se1wb",
      "execution_count": null,
      "outputs": []
    },
    {
      "cell_type": "code",
      "execution_count": null,
      "id": "1ae413bf-8575-4f9e-b05a-127ab4fb2721",
      "metadata": {
        "id": "1ae413bf-8575-4f9e-b05a-127ab4fb2721"
      },
      "outputs": [],
      "source": [
        "predicted_YT = predicted_YT_asm + predicted_YT_ben + predicted_YT_eng + predicted_YT_guj + predicted_YT_hin + predicted_YT_kan + predicted_YT_mal + predicted_YT_mar + predicted_YT_odi + predicted_YT_pun + predicted_YT_tam + predicted_YT_tel\n",
        "gt_YT = gt_YT_asm + gt_YT_ben + gt_YT_eng + gt_YT_guj + gt_YT_hin + gt_YT_kan + gt_YT_mal + gt_YT_mar + gt_YT_odi + gt_YT_pun + gt_YT_tam + gt_YT_tel"
      ]
    },
    {
      "cell_type": "code",
      "execution_count": null,
      "id": "89b498bd-92f1-4413-b708-8532d66e598d",
      "metadata": {
        "colab": {
          "base_uri": "https://localhost:8080/"
        },
        "id": "89b498bd-92f1-4413-b708-8532d66e598d",
        "outputId": "8f94f346-47a6-44b1-abd2-dd6d8c0674fc"
      },
      "outputs": [
        {
          "output_type": "stream",
          "name": "stdout",
          "text": [
            "[[29 18 22  0  0  2 37  0 70  0  0  2]\n",
            " [ 4 11 41  0  2 18 36 15 43  0  0 10]\n",
            " [ 4  4 15  0  0 38 27  0 37  0  0  1]\n",
            " [ 2  0 22  0 23 20 73 19 10  0  4  8]\n",
            " [ 1  7  1  0  0 26 68  0 62  0  0 16]\n",
            " [20 13 34  0  6 16 30 13 49  0  0  0]\n",
            " [ 3 36  7 25 13 19  8 19 22  3 18  7]\n",
            " [ 5  1 11  0  0  1 47  6 31  0  0 17]\n",
            " [29 22 28  0  0  0  7 31 55  0  0  8]\n",
            " [16  0  4  0  3  0 17 12 68  0  0  1]\n",
            " [ 4  7  2  3 25  0 13  0 39  5 18  1]\n",
            " [ 2 13  3 15  4 16 33 27 40  0 15 10]]\n"
          ]
        }
      ],
      "source": [
        "confusion_matrix = metrics.confusion_matrix(gt_YT, predicted_YT, labels=list(lang_dict.keys()))\n",
        "print(confusion_matrix)"
      ]
    },
    {
      "cell_type": "code",
      "source": [
        "report_YT = metrics.classification_report(predicted_YT,gt_YT) #precision, recall, f1-score,etc\n",
        "print(report_YT)"
      ],
      "metadata": {
        "colab": {
          "base_uri": "https://localhost:8080/"
        },
        "id": "RhnY_c86fVxh",
        "outputId": "c44cd097-5de7-4d17-9f6f-c0c87898ebac"
      },
      "id": "RhnY_c86fVxh",
      "execution_count": null,
      "outputs": [
        {
          "output_type": "stream",
          "name": "stdout",
          "text": [
            "              precision    recall  f1-score   support\n",
            "\n",
            "           0       0.16      0.24      0.19       119\n",
            "           1       0.06      0.08      0.07       132\n",
            "           2       0.12      0.08      0.09       190\n",
            "           3       0.00      0.00      0.00        43\n",
            "           4       0.00      0.00      0.00        76\n",
            "           5       0.09      0.10      0.09       156\n",
            "           6       0.04      0.02      0.03       396\n",
            "           7       0.05      0.04      0.05       142\n",
            "           8       0.31      0.10      0.16       526\n",
            "           9       0.00      0.00      0.00         8\n",
            "          10       0.15      0.33      0.21        55\n",
            "          11       0.06      0.12      0.08        81\n",
            "\n",
            "    accuracy                           0.09      1924\n",
            "   macro avg       0.09      0.09      0.08      1924\n",
            "weighted avg       0.14      0.09      0.09      1924\n",
            "\n"
          ]
        }
      ]
    },
    {
      "cell_type": "code",
      "source": [
        "from sklearn.metrics import accuracy_score\n",
        "accuracy_score(gt_YT, predicted_YT)*100"
      ],
      "metadata": {
        "colab": {
          "base_uri": "https://localhost:8080/"
        },
        "id": "H_DSU9Av1FHA",
        "outputId": "7db58d87-58b6-4ec3-8f28-bd559dcd41ae"
      },
      "id": "H_DSU9Av1FHA",
      "execution_count": null,
      "outputs": [
        {
          "output_type": "execute_result",
          "data": {
            "text/plain": [
              "8.731808731808732"
            ]
          },
          "metadata": {},
          "execution_count": 558
        }
      ]
    },
    {
      "cell_type": "markdown",
      "source": [
        "**For prasharbharti**"
      ],
      "metadata": {
        "id": "WRGfqA3RqTh2"
      },
      "id": "WRGfqA3RqTh2"
    },
    {
      "cell_type": "code",
      "source": [
        "print(\"Accuracy of asm\",accuracy_score(gt_PB_asm, predicted_PB_asm))\n",
        "print(\"Accuracy of eng\",accuracy_score(gt_PB_eng, predicted_PB_eng))\n",
        "print(\"Accuracy of guj\",accuracy_score(gt_PB_guj, predicted_PB_guj))\n",
        "print(\"Accuracy of hin\",accuracy_score(gt_PB_hin, predicted_PB_hin))\n",
        "print(\"Accuracy of kan\",accuracy_score(gt_PB_kan, predicted_PB_kan))\n",
        "print(\"Accuracy of mal\",accuracy_score(gt_PB_mal, predicted_PB_mal))\n",
        "print(\"Accuracy of mar\",accuracy_score(gt_PB_mar, predicted_PB_mar))\n",
        "print(\"Accuracy of odi\",accuracy_score(gt_PB_odi, predicted_PB_odi))\n",
        "print(\"Accuracy of pun\",accuracy_score(gt_PB_pun, predicted_PB_pun))\n",
        "print(\"Accuracy of tam\",accuracy_score(gt_PB_tam, predicted_PB_tam))\n",
        "print(\"Accuracy of tel\",accuracy_score(gt_PB_tel, predicted_PB_tel))"
      ],
      "metadata": {
        "colab": {
          "base_uri": "https://localhost:8080/"
        },
        "id": "Lkv_OCHGqS6o",
        "outputId": "fc79029b-a1cf-40a6-85fb-a16b7b934daa"
      },
      "id": "Lkv_OCHGqS6o",
      "execution_count": null,
      "outputs": [
        {
          "output_type": "stream",
          "name": "stdout",
          "text": [
            "Accuracy of asm 0.947075208913649\n",
            "Accuracy of eng 0.8879310344827587\n",
            "Accuracy of guj 0.9776536312849162\n",
            "Accuracy of hin 0.8659217877094972\n",
            "Accuracy of kan 0.8629441624365483\n",
            "Accuracy of mal 0.8418367346938775\n",
            "Accuracy of mar 0.7606837606837606\n",
            "Accuracy of odi 0.9396984924623115\n",
            "Accuracy of pun 0.4838709677419355\n",
            "Accuracy of tam 0.776\n",
            "Accuracy of tel 0.9123711340206185\n"
          ]
        }
      ]
    },
    {
      "cell_type": "markdown",
      "source": [
        "**For Youtube**"
      ],
      "metadata": {
        "id": "zP007dNrqL9V"
      },
      "id": "zP007dNrqL9V"
    },
    {
      "cell_type": "code",
      "source": [
        "print(\"Accuracy of asm\",accuracy_score(gt_YT_asm, predicted_YT_asm))\n",
        "print(\"Accuracy of ben\",accuracy_score(gt_YT_ben, predicted_YT_ben))\n",
        "print(\"Accuracy of eng\",accuracy_score(gt_YT_eng, predicted_YT_eng))\n",
        "print(\"Accuracy of guj\",accuracy_score(gt_YT_guj, predicted_YT_guj))\n",
        "print(\"Accuracy of hin\",accuracy_score(gt_YT_hin, predicted_YT_hin))\n",
        "print(\"Accuracy of kan\",accuracy_score(gt_YT_kan, predicted_YT_kan))\n",
        "print(\"Accuracy of mal\",accuracy_score(gt_YT_mal, predicted_YT_mal))\n",
        "print(\"Accuracy of mar\",accuracy_score(gt_YT_mar, predicted_YT_mar))\n",
        "print(\"Accuracy of odi\",accuracy_score(gt_YT_odi, predicted_YT_odi))\n",
        "print(\"Accuracy of pun\",accuracy_score(gt_YT_pun, predicted_YT_pun))\n",
        "print(\"Accuracy of tam\",accuracy_score(gt_YT_tam, predicted_YT_tam))\n",
        "print(\"Accuracy of tel\",accuracy_score(gt_YT_tel, predicted_YT_tel))\n"
      ],
      "metadata": {
        "colab": {
          "base_uri": "https://localhost:8080/"
        },
        "id": "dXgJvUid2Kn2",
        "outputId": "45e68e2f-3174-48f6-fc48-58ef8d0d4c02"
      },
      "id": "dXgJvUid2Kn2",
      "execution_count": null,
      "outputs": [
        {
          "output_type": "stream",
          "name": "stdout",
          "text": [
            "Accuracy of asm 0.16111111111111112\n",
            "Accuracy of ben 0.06111111111111111\n",
            "Accuracy of eng 0.11904761904761904\n",
            "Accuracy of guj 0.0\n",
            "Accuracy of hin 0.0\n",
            "Accuracy of kan 0.08839779005524862\n",
            "Accuracy of mal 0.044444444444444446\n",
            "Accuracy of mar 0.05042016806722689\n",
            "Accuracy of odi 0.3055555555555556\n",
            "Accuracy of pun 0.0\n",
            "Accuracy of tam 0.15384615384615385\n",
            "Accuracy of tel 0.056179775280898875\n"
          ]
        }
      ]
    },
    {
      "cell_type": "code",
      "source": [],
      "metadata": {
        "id": "qNfSm1m8ocFh"
      },
      "id": "qNfSm1m8ocFh",
      "execution_count": null,
      "outputs": []
    }
  ],
  "metadata": {
    "kernelspec": {
      "display_name": "Python 3 (ipykernel)",
      "language": "python",
      "name": "python3"
    },
    "language_info": {
      "codemirror_mode": {
        "name": "ipython",
        "version": 3
      },
      "file_extension": ".py",
      "mimetype": "text/x-python",
      "name": "python",
      "nbconvert_exporter": "python",
      "pygments_lexer": "ipython3",
      "version": "3.9.12"
    },
    "colab": {
      "provenance": []
    }
  },
  "nbformat": 4,
  "nbformat_minor": 5
}